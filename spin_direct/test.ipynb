{
 "cells": [
  {
   "cell_type": "code",
   "execution_count": null,
   "id": "initial_id",
   "metadata": {},
   "outputs": [],
   "source": [
    "import traceback\n",
    "import os\n",
    "import json\n",
    "from cpitospin import analyze_cpi_structure, CPIToSPINConverter"
   ]
  },
  {
   "cell_type": "markdown",
   "id": "8d2219f1-125f-428e-ae72-bb5af44e7cdd",
   "metadata": {},
   "source": [
    "# Choose the test\n",
    "All the test available are in folder 'CPIs'"
   ]
  },
  {
   "cell_type": "code",
   "execution_count": null,
   "id": "e1cd6ff0-611f-4554-bec2-4a5ffcd06bca",
   "metadata": {},
   "outputs": [],
   "source": [
    "process_name = \"choice\""
   ]
  },
  {
   "cell_type": "markdown",
   "id": "d8cea916-6e05-41d1-82b8-db2c0286966e",
   "metadata": {},
   "source": [
    "## Load File "
   ]
  },
  {
   "cell_type": "code",
   "execution_count": null,
   "id": "616698ac2fa9d9dd",
   "metadata": {},
   "outputs": [],
   "source": [
    "cpi_file_path = f'../CPIs/{process_name}.cpi'\n",
    "\n",
    "print(f\"Loading CPI file: {cpi_file_path}\")\n",
    "\n",
    "try:\n",
    "\twith open(cpi_file_path, 'r') as f:\n",
    "\t\tcpi_dict = json.load(f)\n",
    "\n",
    "\tprint(\"✓ CPI file loaded successfully!\")\n",
    "\tprint(f\"Root region type: {cpi_dict['type']}\")\n",
    "\tprint(f\"Root region ID: {cpi_dict['id']}\")\n",
    "\n",
    "\t# Pretty print the CPI structure\n",
    "\tprint(\"\\nCPI Structure:\")\n",
    "\tprint(\"=\" * 50)\n",
    "\tprint(json.dumps(cpi_dict, indent=2))\n",
    "\n",
    "except FileNotFoundError:\n",
    "\tprint(f\"❌ File not found: {cpi_file_path}\")\n",
    "\tprint(\"Available files in CPIs directory:\")\n",
    "\ttry:\n",
    "\t\tfor f in os.listdir('../CPIs'):\n",
    "\t\t\tif f.endswith('.cpi'):\n",
    "\t\t\t\tprint(f\"  - {f}\")\n",
    "\texcept:\n",
    "\t\tprint(\"  Could not list CPIs directory\")\n",
    "except Exception as e:\n",
    "\tprint(f\"❌ Error loading CPI file: {e}\")\n",
    "\ttraceback.print_exc()"
   ]
  },
  {
   "cell_type": "markdown",
   "id": "f5ed26b5-d5ae-4f61-91f1-9b1f20041f02",
   "metadata": {},
   "source": [
    "# FROM CPI TO SPIN"
   ]
  },
  {
   "cell_type": "code",
   "execution_count": null,
   "id": "5b8fe918cc1cc060",
   "metadata": {},
   "outputs": [],
   "source": [
    "print(\"\\nCPI Structure Analysis:\")\n",
    "print(\"=\" * 50)\n",
    "if 'cpi_dict' in locals():\n",
    "\tanalyze_cpi_structure(cpi_dict)\n",
    "\n",
    "print(\"Converting CPI to SPIN...\")\n",
    "print(\"=\" * 50)\n",
    "\n",
    "try:\n",
    "\tconverter = CPIToSPINConverter()\n",
    "\tspin_model = converter.convert_cpi_to_spin(cpi_dict)\n",
    "\n",
    "\tprint(\"✓ Conversion successful!\")\n",
    "\tprint(\"\\nSPIN Model Summary:\")\n",
    "\tprint(\"-\" * 30)\n",
    "\tspin_model.print_model_summary()\n",
    "\n",
    "except Exception as e:\n",
    "\tprint(f\"❌ Conversion failed: {e}\")\n",
    "\ttraceback.print_exc()"
   ]
  },
  {
   "cell_type": "code",
   "execution_count": null,
   "id": "73b6e669a6daa12a",
   "metadata": {},
   "outputs": [],
   "source": [
    "from cpitospin import create_cpi_visualization, create_spin_visualization\n",
    "\n",
    "print(\"\\nCreating visualizations...\")\n",
    "print(\"=\" * 50)\n",
    "\n",
    "try:\n",
    "\t# Create CPI visualization\n",
    "\tcpi_viz = create_cpi_visualization(cpi_dict, \"CPI: Loop Example\")\n",
    "\tprint(\"✓ CPI visualization created\")\n",
    "\n",
    "\t# Create SPIN visualization\n",
    "\tspin_viz = create_spin_visualization(spin_model, \"SPIN: Loop Example\")\n",
    "\tprint(\"✓ SPIN visualization created\")\n",
    "\n",
    "\t# Display visualizations (if in Jupyter)\n",
    "\ttry:\n",
    "\t\tprint(\"\\nCPI Structure Visualization:\")\n",
    "\t\tdisplay(cpi_viz)\n",
    "\n",
    "\t\tprint(\"\\nSPIN Model Visualization:\")\n",
    "\t\tdisplay(spin_viz)\n",
    "\texcept NameError:\n",
    "\t\t# Not in Jupyter, save to files instead\n",
    "\t\tprint(\"Saving visualizations to files...\")\n",
    "\n",
    "\t\t# Save CPI visualization\n",
    "\t\tcpi_output = process_name + '_cpi'\n",
    "\t\tcpi_viz.render(cpi_output, cleanup=True)\n",
    "\t\tprint(f\"CPI visualization saved to: {cpi_output}.png\")\n",
    "\n",
    "\t\t# Save SPIN visualization\n",
    "\t\tspin_output = process_name + '_spin'\n",
    "\t\tspin_viz.render(spin_output, cleanup=True)\n",
    "\t\tprint(f\"SPIN visualization saved to: {spin_output}.png\")\n",
    "\n",
    "except Exception as e:\n",
    "\tprint(f\"❌ Visualization failed: {e}\")\n",
    "\ttraceback.print_exc()\n"
   ]
  },
  {
   "cell_type": "markdown",
   "id": "856e60bc-8310-4544-822d-6a9feb506970",
   "metadata": {},
   "source": [
    "# FROM SPIN TO PRISM"
   ]
  },
  {
   "cell_type": "code",
   "execution_count": null,
   "id": "9e4c7462785fdf8e",
   "metadata": {},
   "outputs": [],
   "source": [
    "print(\"\\nGenerating PRISM model...\")\n",
    "print(\"=\" * 50)\n",
    "\n",
    "try:\n",
    "\tprism_model = spin_model.generate_prism_model()\n",
    "\n",
    "\tprint(\"✓ PRISM model generated successfully!\")\n",
    "\n",
    "\t# Show model statistics\n",
    "\tlines = prism_model.split('\\n')\n",
    "\twords = prism_model.split()\n",
    "\n",
    "\tprint(f\"Model statistics:\")\n",
    "\tprint(f\"  Lines: {len(lines)}\")\n",
    "\tprint(f\"  Words: {len(words)}\")\n",
    "\tprint(f\"  Characters: {len(prism_model)}\")\n",
    "\n",
    "\t# Show first 20 lines\n",
    "\tprint(f\"\\nFirst 20 lines of PRISM model:\")\n",
    "\tprint(\"-\" * 40)\n",
    "\tfor i, line in enumerate(lines[:20]):\n",
    "\t\tprint(f\"{i + 1:2d}: {line}\")\n",
    "\n",
    "\tif len(lines) > 20:\n",
    "\t\tprint(f\"... ({len(lines) - 20} more lines)\")\n",
    "\n",
    "except Exception as e:\n",
    "\tprint(f\"❌ PRISM generation failed: {e}\")\n",
    "\ttraceback.print_exc()\n",
    "\n",
    "print(\"\\nSaving PRISM model...\")\n",
    "print(\"=\" * 50)\n",
    "\n",
    "try:\n",
    "\toutput_file =  \"../models/\" + process_name + '.nm'\n",
    "\twith open(output_file, 'w') as f:\n",
    "\t\tf.write(prism_model)\n",
    "\n",
    "\tprint(f\"✓ PRISM model saved to: {output_file}\")\n",
    "\n",
    "\t# Verify file was created\n",
    "\tif os.path.exists(output_file):\n",
    "\t\tfile_size = os.path.getsize(output_file)\n",
    "\t\tprint(f\"File size: {file_size} bytes\")\n",
    "\telse:\n",
    "\t\tprint(\"❌ Warning: File was not created\")\n",
    "\n",
    "except Exception as e:\n",
    "\tprint(f\"❌ Save failed: {e}\")\n",
    "\ttraceback.print_exc()"
   ]
  },
  {
   "cell_type": "markdown",
   "id": "e5dd67e1-ba42-4146-8739-73cf144f26f3",
   "metadata": {},
   "source": [
    "## RUN PRISM ANALYSIS"
   ]
  },
  {
   "cell_type": "code",
   "execution_count": null,
   "id": "2414348c-8ef5-4ed3-963d-f3b47aa6db7d",
   "metadata": {},
   "outputs": [],
   "source": [
    "from run_prism import run_prism_analysis\n",
    "run_prism_analysis(process_name, '/home/emanuelechini/cpi-to-prism-loops/prism-4.8.1-linux64-x86/bin/prism')"
   ]
  },
  {
   "cell_type": "code",
   "execution_count": null,
   "id": "fa6914e4-fc0c-424a-a1ab-790116bb4fee",
   "metadata": {},
   "outputs": [],
   "source": [
    "from graphviz import Source\n",
    "with open(f\"../models/{process_name}.dot\", 'r', encoding='utf-8') as f: \n",
    "    dot_content = f.read() \n",
    "    graph = Source(dot_content) # Esporta in SVG graph.render(filename=output_path, format='svg', cleanup=True)\n",
    "    graph.render(filename=f\"../results/{process_name}/{process_name}\", format='svg', cleanup=True)"
   ]
  },
  {
   "cell_type": "markdown",
   "id": "1dc73186-040b-4e15-9dd5-16cbe91a1bed",
   "metadata": {},
   "source": [
    "# FROM PRISM TO MDP\n",
    "\n",
    "Since PRISM models are based on an extended form of MDPs, we now provide the compact version of the MDP generated by PRISM, which corresponds to the equivalent SPIN model. This enhances clarity and facilitates easier comparison between the two representations."
   ]
  },
  {
   "cell_type": "code",
   "execution_count": null,
   "id": "1fbde089-7f09-437b-978a-aba7b7bccdd2",
   "metadata": {},
   "outputs": [],
   "source": [
    "import pandas as pd \n",
    "import pandas as pd\n",
    "\n",
    "def create_states_mdp(process_name: str = 'test'):\n",
    "    df = pd.read_csv(f\"../results/{process_name}/{process_name}_states.csv\")\n",
    "\n",
    "    df['STAGE'] = df['(STAGE'].apply(lambda x: x.split(':')[-1].split('(')[-1] if isinstance(x, str) else x)\n",
    "    df.drop(columns=['(STAGE'], inplace=True)\n",
    "\n",
    "    # Find column ending with ')' and extract second-to-last character\n",
    "    paren_cols = [col for col in df.columns if col.endswith(')')]\n",
    "    for col in paren_cols:\n",
    "        df[col.replace(')', '')] = df[col].apply(lambda x: x[-2] if isinstance(x, str) and len(x) >= 2 else x)\n",
    "        df.drop(columns=[col], inplace=True)\n",
    "\n",
    "    # Convert everything to numeric where possible\n",
    "    df = df.apply(pd.to_numeric)\n",
    "\n",
    "    # Find columns ending with _update and _state\n",
    "    update_cols = [col for col in df.columns if col.endswith('_update')]\n",
    "    state_cols = [col for col in df.columns if col.endswith('_state')]\n",
    "\n",
    "    # Filter new states\n",
    "    new_states_df = df[\n",
    "       # (df['STAGE'] == 0) &\n",
    "        (df[update_cols] == 0).all(axis=1) &\n",
    "        (df[state_cols] == 0).all(axis=1)\n",
    "    ]\n",
    "\n",
    "    return new_states_df\n",
    "create_states_mdp(process_name = 'choice')#"
   ]
  },
  {
   "cell_type": "code",
   "execution_count": null,
   "id": "78c60ab9-5901-47c3-907c-72d1942b56b5",
   "metadata": {},
   "outputs": [],
   "source": [
    "pd.read_csv(f\"../results/{process_name}/{process_name}_states.csv\")"
   ]
  },
  {
   "cell_type": "code",
   "execution_count": null,
   "id": "78af8a2e-594b-4f08-b2cf-d825571e71cd",
   "metadata": {},
   "outputs": [],
   "source": [
    "pd.read_csv(f\"../results/{process_name}/{process_name}_trans.tra\", sep = ' ')"
   ]
  }
 ],
 "metadata": {
  "kernelspec": {
   "display_name": "Python 3 (ipykernel)",
   "language": "python",
   "name": "python3"
  },
  "language_info": {
   "codemirror_mode": {
    "name": "ipython",
    "version": 3
   },
   "file_extension": ".py",
   "mimetype": "text/x-python",
   "name": "python",
   "nbconvert_exporter": "python",
   "pygments_lexer": "ipython3",
   "version": "3.10.12"
  }
 },
 "nbformat": 4,
 "nbformat_minor": 5
}
