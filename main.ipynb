{
 "cells": [
  {
   "cell_type": "code",
   "execution_count": null,
   "metadata": {},
   "outputs": [],
   "source": [
    "import sys\n",
    "sys.path.append('sources')"
   ]
  },
  {
   "cell_type": "markdown",
   "metadata": {},
   "source": [
    "# CPI to MDP Pipeline\n",
    "\n",
    "This notebook demonstrates how to convert a Control Process Interface (CPI) dictionary \n",
    "into a Markov Decision Process (MDP) format suitable for the PRISM model checker. We'll walk through:\n",
    "\n",
    "1. Loading and examining a CPI dictionary\n",
    "2. Understanding the conversion process\n",
    "3. Generating PRISM code"
   ]
  },
  {
   "cell_type": "code",
   "execution_count": null,
   "metadata": {},
   "outputs": [],
   "source": [
    "import json\n",
    "\n",
    "FILE = \"test5\"\n",
    "\n",
    "# Load example CPI dictionary\n",
    "with open(f'CPIs/{FILE}.cpi', 'r') as f:\n",
    "    cpi_dict = json.load(f)\n"
   ]
  },
  {
   "cell_type": "markdown",
   "metadata": {},
   "source": [
    "## Process Visualization\n",
    "\n",
    "The CPI dictionary can be visualized as a directed graph to better understand its structure. In this visualization:\n",
    "\n",
    "- **Task nodes** show duration and impact values (cost, time, quality)\n",
    "- **Nature nodes** display their probability values (e.g., \"p=0.7\")\n",
    "- **Sequence nodes** connect components with \"head\" and \"tail\" edges\n",
    "- **Parallel nodes** show concurrent branches with \"first\" and \"second\" edges\n",
    "- **Choice nodes** represent decision points with \"true\" and \"false\" branches\n",
    "\n",
    "Each node type is represented as a box, with edges showing the relationships between components. This hierarchical representation helps understand the process flow and decision points in the system."
   ]
  },
  {
   "cell_type": "code",
   "execution_count": null,
   "metadata": {},
   "outputs": [],
   "source": [
    "from process_visualization import process_to_dot\n",
    "from IPython.display import display\n",
    "from graphviz import Source\n",
    "\n",
    "dot_graph = process_to_dot(cpi_dict)\n",
    "\n",
    "src = Source(dot_graph)\n",
    "display(src)"
   ]
  },
  {
   "cell_type": "markdown",
   "metadata": {},
   "source": []
  },
  {
   "cell_type": "code",
   "execution_count": null,
   "metadata": {},
   "outputs": [],
   "source": [
    "from etl import cpi_to_model\n",
    "from prism import run_prism_analysis\n",
    "from mdp_visualization import show_dot_model\n",
    "\n",
    "cpi_to_model(FILE)\n",
    "run_prism_analysis(FILE)\n",
    "show_dot_model(FILE)\n"
   ]
  },
  {
   "cell_type": "code",
   "execution_count": null,
   "metadata": {},
   "outputs": [],
   "source": [
    "from sampler import sample_expected_impact\n",
    "from bounds import generate_multi_rewards_requirement\n",
    "\n",
    "B = sample_expected_impact(cpi_dict)\n",
    "B['impact_1']= 2.09\n",
    "B"
   ]
  },
  {
   "cell_type": "code",
   "execution_count": null,
   "metadata": {},
   "outputs": [],
   "source": [
    "from analysis import analyze_bounds\n",
    "\n",
    "r  = analyze_bounds(FILE, B)\n",
    "r['result']"
   ]
  },
  {
   "cell_type": "code",
   "execution_count": null,
   "metadata": {},
   "outputs": [],
   "source": []
  }
 ],
 "metadata": {
  "kernelspec": {
   "display_name": "automata_learning",
   "language": "python",
   "name": "python3"
  },
  "language_info": {
   "codemirror_mode": {
    "name": "ipython",
    "version": 3
   },
   "file_extension": ".py",
   "mimetype": "text/x-python",
   "name": "python",
   "nbconvert_exporter": "python",
   "pygments_lexer": "ipython3",
   "version": "3.10.14"
  }
 },
 "nbformat": 4,
 "nbformat_minor": 2
}
