{
 "cells": [
  {
   "cell_type": "code",
   "metadata": {
    "ExecuteTime": {
     "end_time": "2025-06-11T11:14:59.055883Z",
     "start_time": "2025-06-11T11:14:59.047898Z"
    }
   },
   "source": [
    "import sys\n",
    "sys.path.append('sources')"
   ],
   "outputs": [],
   "execution_count": 5
  },
  {
   "cell_type": "markdown",
   "metadata": {},
   "source": [
    "# CPI to MDP Pipeline\n",
    "\n",
    "This notebook demonstrates how to convert a Control Process Interface (CPI) dictionary \n",
    "into a Markov Decision Process (MDP) format suitable for the PRISM model checker. We'll walk through:\n",
    "\n",
    "1. Loading and examining a CPI dictionary\n",
    "2. Understanding the conversion process\n",
    "3. Generating PRISM code"
   ]
  },
  {
   "cell_type": "code",
   "metadata": {
    "ExecuteTime": {
     "end_time": "2025-06-11T11:14:59.067127Z",
     "start_time": "2025-06-11T11:14:59.063494Z"
    }
   },
   "source": [
    "import json\n",
    "\n"
   ],
   "outputs": [],
   "execution_count": 6
  },
  {
   "cell_type": "code",
   "metadata": {
    "ExecuteTime": {
     "end_time": "2025-06-11T11:14:59.084661Z",
     "start_time": "2025-06-11T11:14:59.080679Z"
    }
   },
   "source": [
    "FILE = \"test\"\n",
    "\n",
    "# Load example CPI dictionary\n",
    "with open(f'CPIs/{FILE}.cpi', 'r') as f:\n",
    "    cpi_dict = json.load(f)"
   ],
   "outputs": [],
   "execution_count": 7
  },
  {
   "cell_type": "markdown",
   "metadata": {},
   "source": [
    "## Process Visualization\n",
    "\n",
    "The CPI dictionary can be visualized as a directed graph to better understand its structure. In this visualization:\n",
    "\n",
    "- **Task nodes** show duration and impact values (cost, time, quality)\n",
    "- **Nature nodes** display their probability values (e.g., \"p=0.7\")\n",
    "- **Sequence nodes** connect components with \"head\" and \"tail\" edges\n",
    "- **Parallel nodes** show concurrent branches with \"first\" and \"second\" edges\n",
    "- **Choice nodes** represent decision points with \"true\" and \"false\" branches\n",
    "\n",
    "Each node type is represented as a box, with edges showing the relationships between components. This hierarchical representation helps understand the process flow and decision points in the system."
   ]
  },
  {
   "cell_type": "markdown",
   "metadata": {},
   "source": []
  },
  {
   "cell_type": "code",
   "metadata": {
    "ExecuteTime": {
     "end_time": "2025-06-11T11:14:59.130179Z",
     "start_time": "2025-06-11T11:14:59.094521Z"
    }
   },
   "source": [
    "from etl import cpi_to_model\n",
    "from prism import run_prism_analysis\n",
    "from mdp_visualization import show_dot_model\n",
    "\n",
    "cpi_to_model(FILE)\n",
    "#run_prism_analysis(FILE)\n",
    "#show_dot_model(FILE)"
   ],
   "outputs": [
    {
     "ename": "ModuleNotFoundError",
     "evalue": "No module named 'process_to_mdp'",
     "output_type": "error",
     "traceback": [
      "\u001B[31m---------------------------------------------------------------------------\u001B[39m",
      "\u001B[31mModuleNotFoundError\u001B[39m                       Traceback (most recent call last)",
      "\u001B[36mCell\u001B[39m\u001B[36m \u001B[39m\u001B[32mIn[8]\u001B[39m\u001B[32m, line 1\u001B[39m\n\u001B[32m----> \u001B[39m\u001B[32m1\u001B[39m \u001B[38;5;28;01mfrom\u001B[39;00m\u001B[38;5;250m \u001B[39m\u001B[34;01metl\u001B[39;00m\u001B[38;5;250m \u001B[39m\u001B[38;5;28;01mimport\u001B[39;00m cpi_to_model\n\u001B[32m      2\u001B[39m \u001B[38;5;28;01mfrom\u001B[39;00m\u001B[38;5;250m \u001B[39m\u001B[34;01mprism\u001B[39;00m\u001B[38;5;250m \u001B[39m\u001B[38;5;28;01mimport\u001B[39;00m run_prism_analysis\n\u001B[32m      3\u001B[39m \u001B[38;5;28;01mfrom\u001B[39;00m\u001B[38;5;250m \u001B[39m\u001B[34;01mmdp_visualization\u001B[39;00m\u001B[38;5;250m \u001B[39m\u001B[38;5;28;01mimport\u001B[39;00m show_dot_model\n",
      "\u001B[36mFile \u001B[39m\u001B[32m~\\Projects\\GitHub\\cpi-to-prism-loops\\sources\\etl.py:3\u001B[39m\n\u001B[32m      1\u001B[39m \u001B[38;5;28;01mimport\u001B[39;00m\u001B[38;5;250m \u001B[39m\u001B[34;01mjson\u001B[39;00m\n\u001B[32m      2\u001B[39m \u001B[38;5;28;01mimport\u001B[39;00m\u001B[38;5;250m \u001B[39m\u001B[34;01mos\u001B[39;00m\n\u001B[32m----> \u001B[39m\u001B[32m3\u001B[39m \u001B[38;5;28;01mfrom\u001B[39;00m\u001B[38;5;250m \u001B[39m\u001B[34;01mprocess_to_mdp\u001B[39;00m\u001B[38;5;250m \u001B[39m\u001B[38;5;28;01mimport\u001B[39;00m cpi_to_mdp\n\u001B[32m      5\u001B[39m \u001B[38;5;28;01mdef\u001B[39;00m\u001B[38;5;250m \u001B[39m\u001B[34mcpi_to_model\u001B[39m(filename):\n\u001B[32m      6\u001B[39m \u001B[38;5;250m    \u001B[39m\u001B[33;03m\"\"\"\u001B[39;00m\n\u001B[32m      7\u001B[39m \u001B[33;03m    Converts a CPI file to a PRISM model and saves it in the models subfolder.\u001B[39;00m\n\u001B[32m      8\u001B[39m \u001B[33;03m    \u001B[39;00m\n\u001B[32m   (...)\u001B[39m\u001B[32m     18\u001B[39m \u001B[33;03m        convert_cpi_to_prism(\"test\", include_rewards=False)  # Converts without reward structures\u001B[39;00m\n\u001B[32m     19\u001B[39m \u001B[33;03m    \"\"\"\u001B[39;00m\n",
      "\u001B[31mModuleNotFoundError\u001B[39m: No module named 'process_to_mdp'"
     ]
    }
   ],
   "execution_count": 8
  },
  {
   "cell_type": "code",
   "execution_count": null,
   "metadata": {},
   "outputs": [],
   "source": [
    "from sampler import sample_expected_impact\n",
    "from bounds import generate_multi_rewards_requirement\n",
    "\n",
    "B = sample_expected_impact(cpi_dict)\n",
    "#B['impact_1']= 2.09\n",
    "B"
   ]
  },
  {
   "cell_type": "code",
   "execution_count": null,
   "metadata": {},
   "outputs": [],
   "source": [
    "from analysis import analyze_bounds\n",
    "\n",
    "r  = analyze_bounds(FILE, B)\n",
    "r['result']"
   ]
  },
  {
   "cell_type": "code",
   "execution_count": null,
   "metadata": {},
   "outputs": [],
   "source": [
    "r"
   ]
  },
  {
   "cell_type": "code",
   "execution_count": null,
   "metadata": {},
   "outputs": [],
   "source": [
    "print(r['prism_output'])"
   ]
  },
  {
   "cell_type": "code",
   "execution_count": null,
   "metadata": {},
   "outputs": [],
   "source": [
    "from refinements import refine_bounds\n",
    "#refine_bounds('test8', 10, verbose=True)"
   ]
  },
  {
   "cell_type": "code",
   "execution_count": null,
   "metadata": {},
   "outputs": [],
   "source": [
    "from read import read_cpi_bundles\n",
    "\n",
    "d = read_cpi_bundles(x=2,y=3)[3000]"
   ]
  },
  {
   "cell_type": "code",
   "execution_count": null,
   "metadata": {},
   "outputs": [],
   "source": [
    "d.pop('metadata')"
   ]
  },
  {
   "cell_type": "code",
   "execution_count": null,
   "metadata": {},
   "outputs": [],
   "source": [
    "from benchmark import run_benchmarks\n",
    "#run_random_benchmark()"
   ]
  },
  {
   "cell_type": "code",
   "execution_count": null,
   "metadata": {},
   "outputs": [],
   "source": []
  }
 ],
 "metadata": {
  "kernelspec": {
   "display_name": "automata_learning",
   "language": "python",
   "name": "python3"
  },
  "language_info": {
   "codemirror_mode": {
    "name": "ipython",
    "version": 3
   },
   "file_extension": ".py",
   "mimetype": "text/x-python",
   "name": "python",
   "nbconvert_exporter": "python",
   "pygments_lexer": "ipython3",
   "version": "3.10.14"
  }
 },
 "nbformat": 4,
 "nbformat_minor": 2
}
