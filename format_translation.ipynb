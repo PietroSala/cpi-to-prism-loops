{
 "cells": [
  {
   "cell_type": "code",
   "execution_count": null,
   "metadata": {},
   "outputs": [],
   "source": [
    "import sys\n",
    "sys.path.append('sources')\n",
    "from read import read_cpi_bundles\n",
    "d = read_cpi_bundles(x=2,y=3)[3000]"
   ]
  },
  {
   "cell_type": "code",
   "execution_count": null,
   "metadata": {},
   "outputs": [],
   "source": [
    "d"
   ]
  },
  {
   "cell_type": "code",
   "execution_count": null,
   "metadata": {},
   "outputs": [],
   "source": [
    "TASK_SEQ  = 'expression'\n",
    "IMPACTS = 'impacts'\n",
    "NAMES = 'names'\n",
    "PROBABILITIES = 'probabilities'\n",
    "LOOP_THRESHOLD = 'loop_threshold'\n",
    "DURATIONS = 'durations'\n",
    "DELAYS = 'delays'\n",
    "H = 'h'\n",
    "IMPACTS_NAMES ='impacts_names'\n",
    "LOOP_ROUND = 'loop_round'\n",
    "### SYNTAX\n",
    "LOOPS = 'loops' #useless\n",
    "LOOP_PROB = 'loop_probability'\n",
    "\n",
    "{\n",
    "        TASK_SEQ: '((T1 /[C1] T2) || (( (T3 ^[N2] T4), TU1) ^[N1] ( (T5 ^[N3] T6), TU2)))',\n",
    "        IMPACTS_NAMES: ['a', 'b'],\n",
    "        IMPACTS: {'T1': [3, 1], 'T2': [1, 3], 'T3': [2, 0], 'T4': [0, 2], 'TU1': [3, 1], 'T5': [2, 0], 'T6': [0, 2], 'TU2': [1, 3]},\n",
    "        DURATIONS: {'T1': [0, 1], 'T2': [0, 1], 'T3': [0, 1], 'T4': [0, 1], 'TU1': [0, 1], 'T5': [0, 1], 'T6': [0, 1], 'TU2': [0, 1]},\n",
    "        PROBABILITIES: {'N2': 0.2, 'N1': 0.3, 'N3': 0.4},\n",
    "        LOOP_PROB: {},\n",
    "        NAMES: {'C1': 'C1', 'N2': 'N2', 'N1': 'N1', 'N3': 'N3'},\n",
    "        DELAYS: {'C1': 1}, LOOP_ROUND: {}, H: 0,\n",
    "        }"
   ]
  },
  {
   "cell_type": "code",
   "execution_count": null,
   "metadata": {},
   "outputs": [],
   "source": [
    "from cpi_translations import cpi_to_standard_format"
   ]
  },
  {
   "cell_type": "code",
   "execution_count": null,
   "metadata": {},
   "outputs": [],
   "source": [
    "s = cpi_to_standard_format(d)"
   ]
  },
  {
   "cell_type": "code",
   "execution_count": null,
   "metadata": {},
   "outputs": [],
   "source": [
    "{eval(k):v  for k, v in s.items()}"
   ]
  },
  {
   "cell_type": "code",
   "execution_count": null,
   "metadata": {},
   "outputs": [],
   "source": []
  }
 ],
 "metadata": {
  "kernelspec": {
   "display_name": "automata_learning",
   "language": "python",
   "name": "python3"
  },
  "language_info": {
   "codemirror_mode": {
    "name": "ipython",
    "version": 3
   },
   "file_extension": ".py",
   "mimetype": "text/x-python",
   "name": "python",
   "nbconvert_exporter": "python",
   "pygments_lexer": "ipython3",
   "version": "3.10.14"
  }
 },
 "nbformat": 4,
 "nbformat_minor": 2
}
